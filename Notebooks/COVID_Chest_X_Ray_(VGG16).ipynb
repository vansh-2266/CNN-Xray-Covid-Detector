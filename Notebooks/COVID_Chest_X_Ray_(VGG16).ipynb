{
  "cells": [
    {
      "cell_type": "markdown",
      "metadata": {
        "colab_type": "text",
        "id": "view-in-github"
      },
      "source": [
        "<a href=\"https://colab.research.google.com/github/dwaipayan05/CovCNN-WebApp/blob/main/COVID_Chest_X_Ray_(VGG16).ipynb\" target=\"_parent\"><img src=\"https://colab.research.google.com/assets/colab-badge.svg\" alt=\"Open In Colab\"/></a>"
      ]
    },
    {
      "cell_type": "code",
      "execution_count": null,
      "metadata": {
        "colab": {
          "base_uri": "https://localhost:8080/"
        },
        "id": "8b9DCikpmmKp",
        "outputId": "b74b5761-ec28-4e8e-dd60-e5902c07405a"
      },
      "outputs": [
        {
          "name": "stdout",
          "output_type": "stream",
          "text": [
            "Drive already mounted at /content/gdrive; to attempt to forcibly remount, call drive.mount(\"/content/gdrive\", force_remount=True).\n"
          ]
        }
      ],
      "source": [
        "from google.colab import drive\n",
        "drive.mount('/content/gdrive')"
      ]
    },
    {
      "cell_type": "markdown",
      "metadata": {
        "id": "mNz1rfK3xpmR"
      },
      "source": [
        "**Import Necessary Libraries**"
      ]
    },
    {
      "cell_type": "code",
      "execution_count": null,
      "metadata": {
        "id": "ySGlFOelnaHr"
      },
      "outputs": [],
      "source": [
        "import os\n",
        "import pandas as pd\n",
        "import numpy as np\n",
        "from tqdm import tqdm\n",
        "import keras\n",
        "from keras.utils.np_utils import to_categorical\n",
        "import cv2\n",
        "import tensorflow as tf\n",
        "from sklearn.model_selection import train_test_split\n",
        "from keras.layers import  Flatten, Dense, Dropout\n",
        "from keras.applications import VGG16\n",
        "from keras.models import Model\n",
        "from keras import optimizers\n",
        "from keras.optimizers import Adam\n",
        "from keras.layers import Dense, GlobalAveragePooling2D\n",
        "from keras.layers import Dense, Dropout, Flatten, Conv2D, MaxPool2D, BatchNormalization, AveragePooling2D, GlobalAveragePooling2D\n",
        "import keras_preprocessing\n",
        "from keras_preprocessing import image\n",
        "from keras_preprocessing.image import ImageDataGenerator\n",
        "from keras import callbacks\n",
        "import matplotlib.pyplot as plt\n",
        "from sklearn.metrics import confusion_matrix\n",
        "import seaborn as sns"
      ]
    },
    {
      "cell_type": "code",
      "execution_count": null,
      "metadata": {
        "colab": {
          "base_uri": "https://localhost:8080/"
        },
        "id": "JjQ_O1JKyH9s",
        "outputId": "df72c910-2d41-407a-a584-51349c130e3e"
      },
      "outputs": [
        {
          "name": "stdout",
          "output_type": "stream",
          "text": [
            "2.4.1\n",
            "/device:GPU:0\n",
            "Num GPUs Available:  1\n"
          ]
        }
      ],
      "source": [
        "%tensorflow_version 2.x\n",
        "print(tf.__version__)\n",
        "print(tf.test.gpu_device_name())\n",
        "print(\"Num GPUs Available: \", len(tf.config.experimental.list_physical_devices('GPU')))"
      ]
    },
    {
      "cell_type": "code",
      "execution_count": null,
      "metadata": {
        "colab": {
          "base_uri": "https://localhost:8080/"
        },
        "id": "EKkU8wRhOzdr",
        "outputId": "143ef8ca-2b63-4a92-aaf8-b22deed0a802"
      },
      "outputs": [
        {
          "name": "stdout",
          "output_type": "stream",
          "text": [
            "/content/gdrive/My Drive/COVID Chest X-Ray Analysis\n"
          ]
        }
      ],
      "source": [
        "%cd /content/gdrive/\"My Drive\"/\"COVID Chest X-Ray Analysis\""
      ]
    },
    {
      "cell_type": "markdown",
      "metadata": {
        "id": "bWbeeYIyqt8N"
      },
      "source": [
        "**Fetch Dataset**"
      ]
    },
    {
      "cell_type": "code",
      "execution_count": null,
      "metadata": {
        "colab": {
          "base_uri": "https://localhost:8080/"
        },
        "id": "m5E01jOvmmcR",
        "outputId": "5ec5b891-06e7-4f46-ca95-6dee95931059"
      },
      "outputs": [
        {
          "name": "stdout",
          "output_type": "stream",
          "text": [
            "/content/gdrive/My Drive/COVID Chest X-Ray Analysis\n",
            "sarscov2-ctscan-dataset.zip: Skipping, found more recently modified local copy (use --force to force download)\n",
            "Archive:  sarscov2-ctscan-dataset.zip\n",
            "  End-of-central-directory signature not found.  Either this file is not\n",
            "  a zipfile, or it constitutes one disk of a multi-part archive.  In the\n",
            "  latter case the central directory and zipfile comment will be found on\n",
            "  the last disk(s) of this archive.\n",
            "unzip:  cannot find zipfile directory in one of *.zip or\n",
            "        *.zip.zip, and cannot find sarscov2-ctscan-dataset.zip.ZIP, period.\n",
            "\n",
            "No zipfiles found.\n"
          ]
        }
      ],
      "source": [
        "os.environ['KAGGLE_CONFIG_DIR'] = \"/content/gdrive/MyDrive/COVID Chest X-Ray Analysis\"\n",
        "!kaggle datasets download -d plameneduardo/sarscov2-ctscan-dataset\n",
        "!unzip \\*.zip  && rm *.zip"
      ]
    },
    {
      "cell_type": "markdown",
      "metadata": {
        "id": "q9O49obFxttu"
      },
      "source": [
        "**Split Into Train Data & Test Data**"
      ]
    },
    {
      "cell_type": "code",
      "execution_count": null,
      "metadata": {
        "id": "5BPRbgW4nn3e"
      },
      "outputs": [],
      "source": [
        "disease_types=['COVID', 'non-COVID']\n",
        "data_dir = '/content/gdrive/MyDrive/COVID Chest X-Ray Analysis/Dataset'\n",
        "train_dir = os.path.join(data_dir)"
      ]
    },
    {
      "cell_type": "code",
      "execution_count": null,
      "metadata": {
        "id": "fMQE6EEMrniq"
      },
      "outputs": [],
      "source": [
        "train_data = []\n",
        "for defects_id, sp in enumerate(disease_types):\n",
        "    for file in os.listdir(os.path.join(train_dir, sp)):\n",
        "        train_data.append(['{}/{}'.format(sp, file), defects_id, sp])      \n",
        "train = pd.DataFrame(train_data, columns=['File', 'DiseaseID','Disease Type'])"
      ]
    },
    {
      "cell_type": "code",
      "execution_count": null,
      "metadata": {
        "id": "bOA185RhroWb"
      },
      "outputs": [],
      "source": [
        "IMAGE_SIZE = 150\n",
        "def read_image(filepath):\n",
        "    return cv2.imread(os.path.join(data_dir, filepath)) \n",
        "def resize_image(image, image_size):\n",
        "    return cv2.resize(image.copy(), image_size, interpolation=cv2.INTER_AREA)"
      ]
    },
    {
      "cell_type": "code",
      "execution_count": null,
      "metadata": {
        "colab": {
          "base_uri": "https://localhost:8080/"
        },
        "id": "w0aI-ZCor8lr",
        "outputId": "32f7e10d-6a56-43a9-b5a8-27962ae84e1e"
      },
      "outputs": [
        {
          "name": "stderr",
          "output_type": "stream",
          "text": [
            "2481it [00:15, 165.16it/s]\n"
          ]
        },
        {
          "name": "stdout",
          "output_type": "stream",
          "text": [
            "(2481, 150, 150, 3)\n"
          ]
        }
      ],
      "source": [
        "X_train = np.zeros((train.shape[0], IMAGE_SIZE, IMAGE_SIZE, 3))\n",
        "for i, file in tqdm(enumerate(train['File'].values)):\n",
        "    image = read_image(file)\n",
        "    if image is not None:\n",
        "        X_train[i] = resize_image(image, (IMAGE_SIZE, IMAGE_SIZE))\n",
        "X_Train = X_train / 255.\n",
        "print(X_Train.shape)"
      ]
    },
    {
      "cell_type": "code",
      "execution_count": null,
      "metadata": {
        "id": "yvlrhwtXr9uo"
      },
      "outputs": [],
      "source": [
        "Y_train = train['DiseaseID'].values\n",
        "Y_train = to_categorical(Y_train, num_classes=2)"
      ]
    },
    {
      "cell_type": "code",
      "execution_count": null,
      "metadata": {
        "id": "aa3zZ55CsBqm"
      },
      "outputs": [],
      "source": [
        "X_train, X_val, Y_train, Y_val = train_test_split(X_Train, Y_train, test_size=0.1)"
      ]
    },
    {
      "cell_type": "markdown",
      "metadata": {
        "id": "TcaWuy-DxxuJ"
      },
      "source": [
        "**Define VGG16 Model Architecture**"
      ]
    },
    {
      "cell_type": "code",
      "execution_count": null,
      "metadata": {
        "colab": {
          "base_uri": "https://localhost:8080/"
        },
        "id": "PTzIgz1xsC6s",
        "outputId": "f1936fe1-79c6-4234-c1d6-728c9cc5b499"
      },
      "outputs": [
        {
          "name": "stdout",
          "output_type": "stream",
          "text": [
            "Model: \"VGG16_Architecture\"\n",
            "_________________________________________________________________\n",
            "Layer (type)                 Output Shape              Param #   \n",
            "=================================================================\n",
            "input_1 (InputLayer)         [(None, 150, 150, 3)]     0         \n",
            "_________________________________________________________________\n",
            "block1_conv1 (Conv2D)        (None, 150, 150, 64)      1792      \n",
            "_________________________________________________________________\n",
            "block1_conv2 (Conv2D)        (None, 150, 150, 64)      36928     \n",
            "_________________________________________________________________\n",
            "block1_pool (MaxPooling2D)   (None, 75, 75, 64)        0         \n",
            "_________________________________________________________________\n",
            "block2_conv1 (Conv2D)        (None, 75, 75, 128)       73856     \n",
            "_________________________________________________________________\n",
            "block2_conv2 (Conv2D)        (None, 75, 75, 128)       147584    \n",
            "_________________________________________________________________\n",
            "block2_pool (MaxPooling2D)   (None, 37, 37, 128)       0         \n",
            "_________________________________________________________________\n",
            "block3_conv1 (Conv2D)        (None, 37, 37, 256)       295168    \n",
            "_________________________________________________________________\n",
            "block3_conv2 (Conv2D)        (None, 37, 37, 256)       590080    \n",
            "_________________________________________________________________\n",
            "block3_conv3 (Conv2D)        (None, 37, 37, 256)       590080    \n",
            "_________________________________________________________________\n",
            "block3_pool (MaxPooling2D)   (None, 18, 18, 256)       0         \n",
            "_________________________________________________________________\n",
            "block4_conv1 (Conv2D)        (None, 18, 18, 512)       1180160   \n",
            "_________________________________________________________________\n",
            "block4_conv2 (Conv2D)        (None, 18, 18, 512)       2359808   \n",
            "_________________________________________________________________\n",
            "block4_conv3 (Conv2D)        (None, 18, 18, 512)       2359808   \n",
            "_________________________________________________________________\n",
            "block4_pool (MaxPooling2D)   (None, 9, 9, 512)         0         \n",
            "_________________________________________________________________\n",
            "block5_conv1 (Conv2D)        (None, 9, 9, 512)         2359808   \n",
            "_________________________________________________________________\n",
            "block5_conv2 (Conv2D)        (None, 9, 9, 512)         2359808   \n",
            "_________________________________________________________________\n",
            "block5_conv3 (Conv2D)        (None, 9, 9, 512)         2359808   \n",
            "_________________________________________________________________\n",
            "block5_pool (MaxPooling2D)   (None, 4, 4, 512)         0         \n",
            "_________________________________________________________________\n",
            "global_average_pooling2d (Gl (None, 512)               0         \n",
            "_________________________________________________________________\n",
            "batch_normalization (BatchNo (None, 512)               2048      \n",
            "_________________________________________________________________\n",
            "dropout (Dropout)            (None, 512)               0         \n",
            "_________________________________________________________________\n",
            "dense (Dense)                (None, 256)               131328    \n",
            "_________________________________________________________________\n",
            "batch_normalization_1 (Batch (None, 256)               1024      \n",
            "_________________________________________________________________\n",
            "dropout_1 (Dropout)          (None, 256)               0         \n",
            "_________________________________________________________________\n",
            "dense_1 (Dense)              (None, 2)                 514       \n",
            "=================================================================\n",
            "Total params: 14,849,602\n",
            "Trainable params: 133,378\n",
            "Non-trainable params: 14,716,224\n",
            "_________________________________________________________________\n"
          ]
        }
      ],
      "source": [
        "vgg16_model = VGG16(weights = 'imagenet', include_top = False,input_shape=(150,150,3))\n",
        "x = vgg16_model.output\n",
        "x = GlobalAveragePooling2D()(x)\n",
        "x = BatchNormalization()(x)\n",
        "x = Dropout(0.5)(x)\n",
        "x = Dense(256, activation='relu')(x)\n",
        "x = BatchNormalization()(x)\n",
        "x = Dropout(0.5)(x)\n",
        "\n",
        "predictions = Dense(2, activation = 'softmax')(x)\n",
        "model = Model(vgg16_model.input,predictions)\n",
        "for layer in vgg16_model.layers:\n",
        "    layer.trainable = False\n",
        "optimizer = Adam(lr=0.0002)\n",
        "model.compile(loss='binary_crossentropy', optimizer=optimizer, metrics=['accuracy'])\n",
        "model._name = \"VGG16_Architecture\"\n",
        "model.summary()"
      ]
    },
    {
      "cell_type": "markdown",
      "metadata": {
        "id": "l0e-97zBx1tX"
      },
      "source": [
        "**Train the Model**"
      ]
    },
    {
      "cell_type": "code",
      "execution_count": null,
      "metadata": {
        "colab": {
          "base_uri": "https://localhost:8080/"
        },
        "id": "YHjD6EQSsFC_",
        "outputId": "ba69f58c-956d-4fcd-db2a-b5d60dbdf507"
      },
      "outputs": [
        {
          "name": "stderr",
          "output_type": "stream",
          "text": [
            "/usr/local/lib/python3.7/dist-packages/tensorflow/python/keras/engine/training.py:1844: UserWarning: `Model.fit_generator` is deprecated and will be removed in a future version. Please use `Model.fit`, which supports generators.\n",
            "  warnings.warn('`Model.fit_generator` is deprecated and '\n"
          ]
        },
        {
          "name": "stdout",
          "output_type": "stream",
          "text": [
            "Epoch 1/200\n",
            "32/32 [==============================] - 25s 593ms/step - loss: 0.9404 - accuracy: 0.5515 - val_loss: 0.6783 - val_accuracy: 0.5863\n",
            "\n",
            "Epoch 00001: val_loss improved from inf to 0.67826, saving model to VGG16_Model.hdf5\n",
            "Epoch 2/200\n",
            "32/32 [==============================] - 12s 380ms/step - loss: 0.8159 - accuracy: 0.6373 - val_loss: 0.6586 - val_accuracy: 0.6586\n",
            "\n",
            "Epoch 00002: val_loss improved from 0.67826 to 0.65860, saving model to VGG16_Model.hdf5\n",
            "Epoch 3/200\n",
            "32/32 [==============================] - 12s 377ms/step - loss: 0.7346 - accuracy: 0.6698 - val_loss: 0.6439 - val_accuracy: 0.6707\n",
            "\n",
            "Epoch 00003: val_loss improved from 0.65860 to 0.64388, saving model to VGG16_Model.hdf5\n",
            "Epoch 4/200\n",
            "32/32 [==============================] - 12s 381ms/step - loss: 0.7050 - accuracy: 0.6715 - val_loss: 0.6311 - val_accuracy: 0.6988\n",
            "\n",
            "Epoch 00004: val_loss improved from 0.64388 to 0.63115, saving model to VGG16_Model.hdf5\n",
            "Epoch 5/200\n",
            "32/32 [==============================] - 12s 377ms/step - loss: 0.7271 - accuracy: 0.6812 - val_loss: 0.6148 - val_accuracy: 0.7149\n",
            "\n",
            "Epoch 00005: val_loss improved from 0.63115 to 0.61485, saving model to VGG16_Model.hdf5\n",
            "Epoch 6/200\n",
            "32/32 [==============================] - 12s 380ms/step - loss: 0.6758 - accuracy: 0.7059 - val_loss: 0.5991 - val_accuracy: 0.7349\n",
            "\n",
            "Epoch 00006: val_loss improved from 0.61485 to 0.59910, saving model to VGG16_Model.hdf5\n",
            "Epoch 7/200\n",
            "32/32 [==============================] - 12s 377ms/step - loss: 0.6567 - accuracy: 0.7014 - val_loss: 0.5859 - val_accuracy: 0.7470\n",
            "\n",
            "Epoch 00007: val_loss improved from 0.59910 to 0.58591, saving model to VGG16_Model.hdf5\n",
            "Epoch 8/200\n",
            "32/32 [==============================] - 12s 372ms/step - loss: 0.6572 - accuracy: 0.7070 - val_loss: 0.5681 - val_accuracy: 0.7550\n",
            "\n",
            "Epoch 00008: val_loss improved from 0.58591 to 0.56805, saving model to VGG16_Model.hdf5\n",
            "Epoch 9/200\n",
            "32/32 [==============================] - 12s 373ms/step - loss: 0.6086 - accuracy: 0.7278 - val_loss: 0.5572 - val_accuracy: 0.7590\n",
            "\n",
            "Epoch 00009: val_loss improved from 0.56805 to 0.55715, saving model to VGG16_Model.hdf5\n",
            "Epoch 10/200\n",
            "32/32 [==============================] - 13s 395ms/step - loss: 0.6309 - accuracy: 0.7232 - val_loss: 0.5393 - val_accuracy: 0.7711\n",
            "\n",
            "Epoch 00010: val_loss improved from 0.55715 to 0.53925, saving model to VGG16_Model.hdf5\n",
            "Epoch 11/200\n",
            "32/32 [==============================] - 13s 390ms/step - loss: 0.6268 - accuracy: 0.7281 - val_loss: 0.5266 - val_accuracy: 0.7711\n",
            "\n",
            "Epoch 00011: val_loss improved from 0.53925 to 0.52657, saving model to VGG16_Model.hdf5\n",
            "Epoch 12/200\n",
            "32/32 [==============================] - 13s 392ms/step - loss: 0.5957 - accuracy: 0.7483 - val_loss: 0.5136 - val_accuracy: 0.7831\n",
            "\n",
            "Epoch 00012: val_loss improved from 0.52657 to 0.51365, saving model to VGG16_Model.hdf5\n",
            "Epoch 13/200\n",
            "32/32 [==============================] - 13s 397ms/step - loss: 0.5998 - accuracy: 0.7417 - val_loss: 0.5022 - val_accuracy: 0.7831\n",
            "\n",
            "Epoch 00013: val_loss improved from 0.51365 to 0.50221, saving model to VGG16_Model.hdf5\n",
            "Epoch 14/200\n",
            "32/32 [==============================] - 12s 386ms/step - loss: 0.5982 - accuracy: 0.7332 - val_loss: 0.4954 - val_accuracy: 0.7992\n",
            "\n",
            "Epoch 00014: val_loss improved from 0.50221 to 0.49544, saving model to VGG16_Model.hdf5\n",
            "Epoch 15/200\n",
            "32/32 [==============================] - 12s 387ms/step - loss: 0.6100 - accuracy: 0.7178 - val_loss: 0.4891 - val_accuracy: 0.7912\n",
            "\n",
            "Epoch 00015: val_loss improved from 0.49544 to 0.48911, saving model to VGG16_Model.hdf5\n",
            "Epoch 16/200\n",
            "32/32 [==============================] - 12s 374ms/step - loss: 0.5776 - accuracy: 0.7419 - val_loss: 0.4816 - val_accuracy: 0.7831\n",
            "\n",
            "Epoch 00016: val_loss improved from 0.48911 to 0.48164, saving model to VGG16_Model.hdf5\n",
            "Epoch 17/200\n",
            "32/32 [==============================] - 12s 381ms/step - loss: 0.5561 - accuracy: 0.7542 - val_loss: 0.4731 - val_accuracy: 0.7831\n",
            "\n",
            "Epoch 00017: val_loss improved from 0.48164 to 0.47306, saving model to VGG16_Model.hdf5\n",
            "Epoch 18/200\n",
            "32/32 [==============================] - 12s 375ms/step - loss: 0.5864 - accuracy: 0.7490 - val_loss: 0.4705 - val_accuracy: 0.7751\n",
            "\n",
            "Epoch 00018: val_loss improved from 0.47306 to 0.47049, saving model to VGG16_Model.hdf5\n",
            "Epoch 19/200\n",
            "32/32 [==============================] - 12s 374ms/step - loss: 0.5673 - accuracy: 0.7361 - val_loss: 0.4710 - val_accuracy: 0.7912\n",
            "\n",
            "Epoch 00019: val_loss did not improve from 0.47049\n",
            "Epoch 20/200\n",
            "32/32 [==============================] - 12s 365ms/step - loss: 0.5828 - accuracy: 0.7381 - val_loss: 0.4655 - val_accuracy: 0.7912\n",
            "\n",
            "Epoch 00020: val_loss improved from 0.47049 to 0.46553, saving model to VGG16_Model.hdf5\n",
            "Epoch 21/200\n",
            "32/32 [==============================] - 12s 371ms/step - loss: 0.5677 - accuracy: 0.7356 - val_loss: 0.4614 - val_accuracy: 0.7912\n",
            "\n",
            "Epoch 00021: val_loss improved from 0.46553 to 0.46138, saving model to VGG16_Model.hdf5\n",
            "Epoch 22/200\n",
            "32/32 [==============================] - 12s 372ms/step - loss: 0.5524 - accuracy: 0.7552 - val_loss: 0.4596 - val_accuracy: 0.7992\n",
            "\n",
            "Epoch 00022: val_loss improved from 0.46138 to 0.45956, saving model to VGG16_Model.hdf5\n",
            "Epoch 23/200\n",
            "32/32 [==============================] - 12s 375ms/step - loss: 0.5775 - accuracy: 0.7327 - val_loss: 0.4510 - val_accuracy: 0.8032\n",
            "\n",
            "Epoch 00023: val_loss improved from 0.45956 to 0.45104, saving model to VGG16_Model.hdf5\n",
            "Epoch 24/200\n",
            "32/32 [==============================] - 12s 373ms/step - loss: 0.5634 - accuracy: 0.7414 - val_loss: 0.4456 - val_accuracy: 0.7952\n",
            "\n",
            "Epoch 00024: val_loss improved from 0.45104 to 0.44563, saving model to VGG16_Model.hdf5\n",
            "Epoch 25/200\n",
            "32/32 [==============================] - 12s 371ms/step - loss: 0.5565 - accuracy: 0.7416 - val_loss: 0.4435 - val_accuracy: 0.8032\n",
            "\n",
            "Epoch 00025: val_loss improved from 0.44563 to 0.44352, saving model to VGG16_Model.hdf5\n",
            "Epoch 26/200\n",
            "32/32 [==============================] - 12s 372ms/step - loss: 0.5255 - accuracy: 0.7596 - val_loss: 0.4404 - val_accuracy: 0.7992\n",
            "\n",
            "Epoch 00026: val_loss improved from 0.44352 to 0.44040, saving model to VGG16_Model.hdf5\n",
            "Epoch 27/200\n",
            "32/32 [==============================] - 12s 372ms/step - loss: 0.5942 - accuracy: 0.7271 - val_loss: 0.4359 - val_accuracy: 0.8072\n",
            "\n",
            "Epoch 00027: val_loss improved from 0.44040 to 0.43591, saving model to VGG16_Model.hdf5\n",
            "Epoch 28/200\n",
            "32/32 [==============================] - 12s 377ms/step - loss: 0.5351 - accuracy: 0.7520 - val_loss: 0.4334 - val_accuracy: 0.8112\n",
            "\n",
            "Epoch 00028: val_loss improved from 0.43591 to 0.43338, saving model to VGG16_Model.hdf5\n",
            "Epoch 29/200\n",
            "32/32 [==============================] - 12s 368ms/step - loss: 0.5480 - accuracy: 0.7500 - val_loss: 0.4336 - val_accuracy: 0.8032\n",
            "\n",
            "Epoch 00029: val_loss did not improve from 0.43338\n",
            "Epoch 30/200\n",
            "32/32 [==============================] - 12s 367ms/step - loss: 0.5326 - accuracy: 0.7581 - val_loss: 0.4358 - val_accuracy: 0.7952\n",
            "\n",
            "Epoch 00030: val_loss did not improve from 0.43338\n",
            "Epoch 31/200\n",
            "32/32 [==============================] - 12s 369ms/step - loss: 0.5695 - accuracy: 0.7275 - val_loss: 0.4362 - val_accuracy: 0.7992\n",
            "\n",
            "Epoch 00031: val_loss did not improve from 0.43338\n",
            "Epoch 32/200\n",
            "32/32 [==============================] - 12s 368ms/step - loss: 0.5854 - accuracy: 0.7315 - val_loss: 0.4334 - val_accuracy: 0.8112\n",
            "\n",
            "Epoch 00032: val_loss improved from 0.43338 to 0.43337, saving model to VGG16_Model.hdf5\n",
            "Epoch 33/200\n",
            "32/32 [==============================] - 12s 373ms/step - loss: 0.5288 - accuracy: 0.7531 - val_loss: 0.4352 - val_accuracy: 0.8193\n",
            "\n",
            "Epoch 00033: val_loss did not improve from 0.43337\n",
            "Epoch 34/200\n",
            "32/32 [==============================] - 12s 366ms/step - loss: 0.5370 - accuracy: 0.7535 - val_loss: 0.4342 - val_accuracy: 0.8153\n",
            "\n",
            "Epoch 00034: val_loss did not improve from 0.43337\n",
            "Epoch 35/200\n",
            "32/32 [==============================] - 12s 369ms/step - loss: 0.5114 - accuracy: 0.7596 - val_loss: 0.4312 - val_accuracy: 0.8112\n",
            "\n",
            "Epoch 00035: val_loss improved from 0.43337 to 0.43125, saving model to VGG16_Model.hdf5\n",
            "Epoch 36/200\n",
            "32/32 [==============================] - 12s 369ms/step - loss: 0.5353 - accuracy: 0.7577 - val_loss: 0.4306 - val_accuracy: 0.8112\n",
            "\n",
            "Epoch 00036: val_loss improved from 0.43125 to 0.43055, saving model to VGG16_Model.hdf5\n",
            "Epoch 37/200\n",
            "32/32 [==============================] - 12s 373ms/step - loss: 0.5360 - accuracy: 0.7417 - val_loss: 0.4296 - val_accuracy: 0.8072\n",
            "\n",
            "Epoch 00037: val_loss improved from 0.43055 to 0.42961, saving model to VGG16_Model.hdf5\n",
            "Epoch 38/200\n",
            "32/32 [==============================] - 12s 370ms/step - loss: 0.5045 - accuracy: 0.7782 - val_loss: 0.4293 - val_accuracy: 0.8112\n",
            "\n",
            "Epoch 00038: val_loss improved from 0.42961 to 0.42933, saving model to VGG16_Model.hdf5\n",
            "Epoch 39/200\n",
            "32/32 [==============================] - 12s 372ms/step - loss: 0.5133 - accuracy: 0.7513 - val_loss: 0.4290 - val_accuracy: 0.8072\n",
            "\n",
            "Epoch 00039: val_loss improved from 0.42933 to 0.42904, saving model to VGG16_Model.hdf5\n",
            "Epoch 40/200\n",
            "32/32 [==============================] - 12s 371ms/step - loss: 0.4964 - accuracy: 0.7726 - val_loss: 0.4275 - val_accuracy: 0.8153\n",
            "\n",
            "Epoch 00040: val_loss improved from 0.42904 to 0.42751, saving model to VGG16_Model.hdf5\n",
            "Epoch 41/200\n",
            "32/32 [==============================] - 12s 372ms/step - loss: 0.5153 - accuracy: 0.7573 - val_loss: 0.4282 - val_accuracy: 0.8112\n",
            "\n",
            "Epoch 00041: val_loss did not improve from 0.42751\n",
            "Epoch 42/200\n",
            "32/32 [==============================] - 12s 368ms/step - loss: 0.5120 - accuracy: 0.7685 - val_loss: 0.4274 - val_accuracy: 0.8233\n",
            "\n",
            "Epoch 00042: val_loss improved from 0.42751 to 0.42744, saving model to VGG16_Model.hdf5\n",
            "Epoch 43/200\n",
            "32/32 [==============================] - 12s 367ms/step - loss: 0.5035 - accuracy: 0.7650 - val_loss: 0.4288 - val_accuracy: 0.8112\n",
            "\n",
            "Epoch 00043: val_loss did not improve from 0.42744\n",
            "Epoch 44/200\n",
            "32/32 [==============================] - 12s 366ms/step - loss: 0.5139 - accuracy: 0.7513 - val_loss: 0.4282 - val_accuracy: 0.8193\n",
            "\n",
            "Epoch 00044: val_loss did not improve from 0.42744\n",
            "Epoch 45/200\n",
            "32/32 [==============================] - 12s 369ms/step - loss: 0.5118 - accuracy: 0.7671 - val_loss: 0.4265 - val_accuracy: 0.8193\n",
            "\n",
            "Epoch 00045: val_loss improved from 0.42744 to 0.42646, saving model to VGG16_Model.hdf5\n",
            "Epoch 46/200\n",
            "32/32 [==============================] - 12s 372ms/step - loss: 0.5340 - accuracy: 0.7505 - val_loss: 0.4270 - val_accuracy: 0.8233\n",
            "\n",
            "Epoch 00046: val_loss did not improve from 0.42646\n",
            "Epoch 47/200\n",
            "32/32 [==============================] - 12s 368ms/step - loss: 0.4909 - accuracy: 0.7651 - val_loss: 0.4248 - val_accuracy: 0.8233\n",
            "\n",
            "Epoch 00047: val_loss improved from 0.42646 to 0.42480, saving model to VGG16_Model.hdf5\n",
            "Epoch 48/200\n",
            "32/32 [==============================] - 12s 371ms/step - loss: 0.4960 - accuracy: 0.7663 - val_loss: 0.4239 - val_accuracy: 0.8193\n",
            "\n",
            "Epoch 00048: val_loss improved from 0.42480 to 0.42388, saving model to VGG16_Model.hdf5\n",
            "Epoch 49/200\n",
            "32/32 [==============================] - 12s 370ms/step - loss: 0.5012 - accuracy: 0.7586 - val_loss: 0.4238 - val_accuracy: 0.8193\n",
            "\n",
            "Epoch 00049: val_loss improved from 0.42388 to 0.42381, saving model to VGG16_Model.hdf5\n",
            "Epoch 50/200\n",
            "32/32 [==============================] - 12s 372ms/step - loss: 0.5383 - accuracy: 0.7484 - val_loss: 0.4238 - val_accuracy: 0.8153\n",
            "\n",
            "Epoch 00050: val_loss improved from 0.42381 to 0.42377, saving model to VGG16_Model.hdf5\n",
            "Epoch 51/200\n",
            "32/32 [==============================] - 12s 373ms/step - loss: 0.4854 - accuracy: 0.7750 - val_loss: 0.4230 - val_accuracy: 0.8193\n",
            "\n",
            "Epoch 00051: val_loss improved from 0.42377 to 0.42302, saving model to VGG16_Model.hdf5\n",
            "Epoch 52/200\n",
            "32/32 [==============================] - 12s 375ms/step - loss: 0.5083 - accuracy: 0.7582 - val_loss: 0.4216 - val_accuracy: 0.8193\n",
            "\n",
            "Epoch 00052: val_loss improved from 0.42302 to 0.42157, saving model to VGG16_Model.hdf5\n",
            "Epoch 53/200\n",
            "32/32 [==============================] - 12s 370ms/step - loss: 0.5048 - accuracy: 0.7570 - val_loss: 0.4234 - val_accuracy: 0.8273\n",
            "\n",
            "Epoch 00053: val_loss did not improve from 0.42157\n",
            "Epoch 54/200\n",
            "32/32 [==============================] - 12s 365ms/step - loss: 0.5253 - accuracy: 0.7401 - val_loss: 0.4236 - val_accuracy: 0.8273\n",
            "\n",
            "Epoch 00054: val_loss did not improve from 0.42157\n",
            "Epoch 55/200\n",
            "32/32 [==============================] - 12s 364ms/step - loss: 0.4835 - accuracy: 0.7814 - val_loss: 0.4235 - val_accuracy: 0.8233\n",
            "\n",
            "Epoch 00055: val_loss did not improve from 0.42157\n",
            "Epoch 56/200\n",
            "32/32 [==============================] - 12s 367ms/step - loss: 0.5076 - accuracy: 0.7523 - val_loss: 0.4215 - val_accuracy: 0.8193\n",
            "\n",
            "Epoch 00056: val_loss improved from 0.42157 to 0.42147, saving model to VGG16_Model.hdf5\n",
            "Epoch 57/200\n",
            "32/32 [==============================] - 12s 370ms/step - loss: 0.4957 - accuracy: 0.7598 - val_loss: 0.4200 - val_accuracy: 0.8233\n",
            "\n",
            "Epoch 00057: val_loss improved from 0.42147 to 0.42003, saving model to VGG16_Model.hdf5\n",
            "Epoch 58/200\n",
            "32/32 [==============================] - 12s 374ms/step - loss: 0.4878 - accuracy: 0.7680 - val_loss: 0.4234 - val_accuracy: 0.8193\n",
            "\n",
            "Epoch 00058: val_loss did not improve from 0.42003\n",
            "Epoch 59/200\n",
            "32/32 [==============================] - 12s 365ms/step - loss: 0.4896 - accuracy: 0.7857 - val_loss: 0.4244 - val_accuracy: 0.8233\n",
            "\n",
            "Epoch 00059: val_loss did not improve from 0.42003\n",
            "Epoch 60/200\n",
            "32/32 [==============================] - 12s 365ms/step - loss: 0.4671 - accuracy: 0.7840 - val_loss: 0.4254 - val_accuracy: 0.8193\n",
            "\n",
            "Epoch 00060: val_loss did not improve from 0.42003\n",
            "Epoch 61/200\n",
            "32/32 [==============================] - 12s 365ms/step - loss: 0.4783 - accuracy: 0.7836 - val_loss: 0.4226 - val_accuracy: 0.8193\n",
            "\n",
            "Epoch 00061: val_loss did not improve from 0.42003\n",
            "Epoch 62/200\n",
            "32/32 [==============================] - 12s 366ms/step - loss: 0.5070 - accuracy: 0.7660 - val_loss: 0.4233 - val_accuracy: 0.8193\n",
            "\n",
            "Epoch 00062: val_loss did not improve from 0.42003\n",
            "Epoch 63/200\n",
            "32/32 [==============================] - 12s 366ms/step - loss: 0.5349 - accuracy: 0.7308 - val_loss: 0.4220 - val_accuracy: 0.8193\n",
            "\n",
            "Epoch 00063: val_loss did not improve from 0.42003\n",
            "Epoch 64/200\n",
            "32/32 [==============================] - 12s 364ms/step - loss: 0.4947 - accuracy: 0.7680 - val_loss: 0.4225 - val_accuracy: 0.8233\n",
            "\n",
            "Epoch 00064: val_loss did not improve from 0.42003\n",
            "Epoch 65/200\n",
            "32/32 [==============================] - 12s 366ms/step - loss: 0.4825 - accuracy: 0.7706 - val_loss: 0.4230 - val_accuracy: 0.8153\n",
            "\n",
            "Epoch 00065: val_loss did not improve from 0.42003\n",
            "Epoch 66/200\n",
            "32/32 [==============================] - 12s 367ms/step - loss: 0.4669 - accuracy: 0.7848 - val_loss: 0.4219 - val_accuracy: 0.8273\n",
            "\n",
            "Epoch 00066: val_loss did not improve from 0.42003\n",
            "Epoch 67/200\n",
            "32/32 [==============================] - 12s 367ms/step - loss: 0.4822 - accuracy: 0.7866 - val_loss: 0.4203 - val_accuracy: 0.8233\n",
            "\n",
            "Epoch 00067: val_loss did not improve from 0.42003\n",
            "Epoch 68/200\n",
            "32/32 [==============================] - 12s 367ms/step - loss: 0.4862 - accuracy: 0.7670 - val_loss: 0.4207 - val_accuracy: 0.8193\n",
            "\n",
            "Epoch 00068: val_loss did not improve from 0.42003\n",
            "Epoch 69/200\n",
            "32/32 [==============================] - 12s 367ms/step - loss: 0.4764 - accuracy: 0.7802 - val_loss: 0.4200 - val_accuracy: 0.8193\n",
            "\n",
            "Epoch 00069: val_loss improved from 0.42003 to 0.41998, saving model to VGG16_Model.hdf5\n",
            "Epoch 70/200\n",
            "32/32 [==============================] - 12s 372ms/step - loss: 0.4781 - accuracy: 0.7830 - val_loss: 0.4200 - val_accuracy: 0.8153\n",
            "\n",
            "Epoch 00070: val_loss improved from 0.41998 to 0.41997, saving model to VGG16_Model.hdf5\n",
            "Epoch 71/200\n",
            "32/32 [==============================] - 12s 372ms/step - loss: 0.4795 - accuracy: 0.7625 - val_loss: 0.4224 - val_accuracy: 0.8233\n",
            "\n",
            "Epoch 00071: val_loss did not improve from 0.41997\n",
            "Epoch 72/200\n",
            "32/32 [==============================] - 12s 371ms/step - loss: 0.4991 - accuracy: 0.7657 - val_loss: 0.4216 - val_accuracy: 0.8313\n",
            "\n",
            "Epoch 00072: val_loss did not improve from 0.41997\n",
            "Epoch 73/200\n",
            "32/32 [==============================] - 12s 367ms/step - loss: 0.4743 - accuracy: 0.7679 - val_loss: 0.4208 - val_accuracy: 0.8233\n",
            "\n",
            "Epoch 00073: val_loss did not improve from 0.41997\n",
            "Epoch 74/200\n",
            "32/32 [==============================] - 12s 366ms/step - loss: 0.5015 - accuracy: 0.7672 - val_loss: 0.4194 - val_accuracy: 0.8153\n",
            "\n",
            "Epoch 00074: val_loss improved from 0.41997 to 0.41938, saving model to VGG16_Model.hdf5\n",
            "Epoch 75/200\n",
            "32/32 [==============================] - 12s 371ms/step - loss: 0.4651 - accuracy: 0.7896 - val_loss: 0.4191 - val_accuracy: 0.8153\n",
            "\n",
            "Epoch 00075: val_loss improved from 0.41938 to 0.41911, saving model to VGG16_Model.hdf5\n",
            "Epoch 76/200\n",
            "32/32 [==============================] - 12s 369ms/step - loss: 0.4752 - accuracy: 0.7711 - val_loss: 0.4222 - val_accuracy: 0.7992\n",
            "\n",
            "Epoch 00076: val_loss did not improve from 0.41911\n",
            "Epoch 77/200\n",
            "32/32 [==============================] - 12s 365ms/step - loss: 0.4699 - accuracy: 0.7686 - val_loss: 0.4167 - val_accuracy: 0.8313\n",
            "\n",
            "Epoch 00077: val_loss improved from 0.41911 to 0.41669, saving model to VGG16_Model.hdf5\n",
            "Epoch 78/200\n",
            "32/32 [==============================] - 12s 370ms/step - loss: 0.4704 - accuracy: 0.7818 - val_loss: 0.4176 - val_accuracy: 0.8193\n",
            "\n",
            "Epoch 00078: val_loss did not improve from 0.41669\n",
            "Epoch 79/200\n",
            "32/32 [==============================] - 12s 365ms/step - loss: 0.4778 - accuracy: 0.7691 - val_loss: 0.4199 - val_accuracy: 0.8072\n",
            "\n",
            "Epoch 00079: val_loss did not improve from 0.41669\n",
            "Epoch 80/200\n",
            "32/32 [==============================] - 12s 364ms/step - loss: 0.4826 - accuracy: 0.7662 - val_loss: 0.4166 - val_accuracy: 0.8193\n",
            "\n",
            "Epoch 00080: val_loss improved from 0.41669 to 0.41656, saving model to VGG16_Model.hdf5\n",
            "Epoch 81/200\n",
            "32/32 [==============================] - 12s 368ms/step - loss: 0.4567 - accuracy: 0.7860 - val_loss: 0.4144 - val_accuracy: 0.8193\n",
            "\n",
            "Epoch 00081: val_loss improved from 0.41656 to 0.41442, saving model to VGG16_Model.hdf5\n",
            "Epoch 82/200\n",
            "32/32 [==============================] - 12s 370ms/step - loss: 0.4555 - accuracy: 0.7933 - val_loss: 0.4175 - val_accuracy: 0.8153\n",
            "\n",
            "Epoch 00082: val_loss did not improve from 0.41442\n",
            "Epoch 83/200\n",
            "32/32 [==============================] - 12s 364ms/step - loss: 0.4765 - accuracy: 0.7749 - val_loss: 0.4185 - val_accuracy: 0.8193\n",
            "\n",
            "Epoch 00083: val_loss did not improve from 0.41442\n",
            "Epoch 84/200\n",
            "32/32 [==============================] - 12s 363ms/step - loss: 0.4819 - accuracy: 0.7579 - val_loss: 0.4192 - val_accuracy: 0.8273\n",
            "\n",
            "Epoch 00084: val_loss did not improve from 0.41442\n",
            "Epoch 85/200\n",
            "32/32 [==============================] - 12s 366ms/step - loss: 0.4714 - accuracy: 0.7634 - val_loss: 0.4195 - val_accuracy: 0.8233\n",
            "\n",
            "Epoch 00085: val_loss did not improve from 0.41442\n",
            "Epoch 86/200\n",
            "32/32 [==============================] - 12s 369ms/step - loss: 0.4744 - accuracy: 0.7659 - val_loss: 0.4200 - val_accuracy: 0.8193\n",
            "\n",
            "Epoch 00086: val_loss did not improve from 0.41442\n",
            "Epoch 87/200\n",
            "32/32 [==============================] - 12s 365ms/step - loss: 0.4793 - accuracy: 0.7731 - val_loss: 0.4215 - val_accuracy: 0.8112\n",
            "\n",
            "Epoch 00087: val_loss did not improve from 0.41442\n",
            "Epoch 88/200\n",
            "32/32 [==============================] - 12s 364ms/step - loss: 0.4728 - accuracy: 0.7842 - val_loss: 0.4201 - val_accuracy: 0.8193\n",
            "\n",
            "Epoch 00088: val_loss did not improve from 0.41442\n",
            "Epoch 89/200\n",
            "32/32 [==============================] - 12s 364ms/step - loss: 0.4428 - accuracy: 0.7909 - val_loss: 0.4172 - val_accuracy: 0.8112\n",
            "\n",
            "Epoch 00089: val_loss did not improve from 0.41442\n",
            "Epoch 90/200\n",
            "32/32 [==============================] - 12s 363ms/step - loss: 0.4734 - accuracy: 0.7785 - val_loss: 0.4182 - val_accuracy: 0.8233\n",
            "\n",
            "Epoch 00090: val_loss did not improve from 0.41442\n",
            "Epoch 91/200\n",
            "32/32 [==============================] - 12s 365ms/step - loss: 0.4668 - accuracy: 0.7756 - val_loss: 0.4188 - val_accuracy: 0.8193\n",
            "\n",
            "Epoch 00091: val_loss did not improve from 0.41442\n",
            "Epoch 92/200\n",
            "32/32 [==============================] - 12s 367ms/step - loss: 0.4595 - accuracy: 0.7877 - val_loss: 0.4150 - val_accuracy: 0.8353\n",
            "\n",
            "Epoch 00092: val_loss did not improve from 0.41442\n",
            "Epoch 93/200\n",
            "32/32 [==============================] - 12s 364ms/step - loss: 0.4750 - accuracy: 0.7699 - val_loss: 0.4145 - val_accuracy: 0.8313\n",
            "\n",
            "Epoch 00093: val_loss did not improve from 0.41442\n",
            "Epoch 94/200\n",
            "32/32 [==============================] - 12s 363ms/step - loss: 0.4598 - accuracy: 0.7703 - val_loss: 0.4168 - val_accuracy: 0.8153\n",
            "\n",
            "Epoch 00094: val_loss did not improve from 0.41442\n",
            "Epoch 95/200\n",
            "32/32 [==============================] - 12s 362ms/step - loss: 0.4930 - accuracy: 0.7678 - val_loss: 0.4179 - val_accuracy: 0.8112\n",
            "\n",
            "Epoch 00095: val_loss did not improve from 0.41442\n",
            "Epoch 96/200\n",
            "32/32 [==============================] - 12s 363ms/step - loss: 0.4980 - accuracy: 0.7615 - val_loss: 0.4171 - val_accuracy: 0.8233\n",
            "\n",
            "Epoch 00096: val_loss did not improve from 0.41442\n",
            "Epoch 97/200\n",
            "32/32 [==============================] - 12s 365ms/step - loss: 0.4676 - accuracy: 0.7607 - val_loss: 0.4167 - val_accuracy: 0.8233\n",
            "\n",
            "Epoch 00097: val_loss did not improve from 0.41442\n",
            "Epoch 98/200\n",
            "32/32 [==============================] - 12s 363ms/step - loss: 0.4670 - accuracy: 0.7816 - val_loss: 0.4138 - val_accuracy: 0.8193\n",
            "\n",
            "Epoch 00098: val_loss improved from 0.41442 to 0.41381, saving model to VGG16_Model.hdf5\n",
            "Epoch 99/200\n",
            "32/32 [==============================] - 12s 368ms/step - loss: 0.4545 - accuracy: 0.7809 - val_loss: 0.4135 - val_accuracy: 0.8193\n",
            "\n",
            "Epoch 00099: val_loss improved from 0.41381 to 0.41348, saving model to VGG16_Model.hdf5\n",
            "Epoch 100/200\n",
            "32/32 [==============================] - 12s 368ms/step - loss: 0.4806 - accuracy: 0.7757 - val_loss: 0.4151 - val_accuracy: 0.8112\n",
            "\n",
            "Epoch 00100: val_loss did not improve from 0.41348\n",
            "Epoch 101/200\n",
            "32/32 [==============================] - 12s 363ms/step - loss: 0.4785 - accuracy: 0.7640 - val_loss: 0.4148 - val_accuracy: 0.8313\n",
            "\n",
            "Epoch 00101: val_loss did not improve from 0.41348\n",
            "Epoch 102/200\n",
            "32/32 [==============================] - 12s 365ms/step - loss: 0.4749 - accuracy: 0.7740 - val_loss: 0.4130 - val_accuracy: 0.8313\n",
            "\n",
            "Epoch 00102: val_loss improved from 0.41348 to 0.41297, saving model to VGG16_Model.hdf5\n",
            "Epoch 103/200\n",
            "32/32 [==============================] - 12s 367ms/step - loss: 0.4644 - accuracy: 0.7871 - val_loss: 0.4103 - val_accuracy: 0.8313\n",
            "\n",
            "Epoch 00103: val_loss improved from 0.41297 to 0.41033, saving model to VGG16_Model.hdf5\n",
            "Epoch 104/200\n",
            "32/32 [==============================] - 12s 367ms/step - loss: 0.4767 - accuracy: 0.7749 - val_loss: 0.4112 - val_accuracy: 0.8313\n",
            "\n",
            "Epoch 00104: val_loss did not improve from 0.41033\n",
            "Epoch 105/200\n",
            "32/32 [==============================] - 12s 363ms/step - loss: 0.4441 - accuracy: 0.7966 - val_loss: 0.4109 - val_accuracy: 0.8353\n",
            "\n",
            "Epoch 00105: val_loss did not improve from 0.41033\n",
            "Epoch 106/200\n",
            "32/32 [==============================] - 12s 368ms/step - loss: 0.4774 - accuracy: 0.7714 - val_loss: 0.4142 - val_accuracy: 0.8353\n",
            "\n",
            "Epoch 00106: val_loss did not improve from 0.41033\n",
            "Epoch 107/200\n",
            "32/32 [==============================] - 12s 365ms/step - loss: 0.4332 - accuracy: 0.7903 - val_loss: 0.4129 - val_accuracy: 0.8313\n",
            "\n",
            "Epoch 00107: val_loss did not improve from 0.41033\n",
            "Epoch 108/200\n",
            "32/32 [==============================] - 12s 364ms/step - loss: 0.4346 - accuracy: 0.7901 - val_loss: 0.4124 - val_accuracy: 0.8313\n",
            "\n",
            "Epoch 00108: val_loss did not improve from 0.41033\n",
            "Epoch 109/200\n",
            "32/32 [==============================] - 12s 363ms/step - loss: 0.4705 - accuracy: 0.7588 - val_loss: 0.4135 - val_accuracy: 0.8273\n",
            "\n",
            "Epoch 00109: val_loss did not improve from 0.41033\n",
            "Epoch 110/200\n",
            "32/32 [==============================] - 12s 364ms/step - loss: 0.4619 - accuracy: 0.7758 - val_loss: 0.4123 - val_accuracy: 0.8394\n",
            "\n",
            "Epoch 00110: val_loss did not improve from 0.41033\n",
            "Epoch 111/200\n",
            "32/32 [==============================] - 12s 368ms/step - loss: 0.4642 - accuracy: 0.7745 - val_loss: 0.4101 - val_accuracy: 0.8353\n",
            "\n",
            "Epoch 00111: val_loss improved from 0.41033 to 0.41013, saving model to VGG16_Model.hdf5\n",
            "Epoch 112/200\n",
            "32/32 [==============================] - 12s 372ms/step - loss: 0.4595 - accuracy: 0.7818 - val_loss: 0.4101 - val_accuracy: 0.8313\n",
            "\n",
            "Epoch 00112: val_loss improved from 0.41013 to 0.41009, saving model to VGG16_Model.hdf5\n",
            "Epoch 113/200\n",
            "32/32 [==============================] - 12s 369ms/step - loss: 0.4618 - accuracy: 0.7904 - val_loss: 0.4092 - val_accuracy: 0.8353\n",
            "\n",
            "Epoch 00113: val_loss improved from 0.41009 to 0.40921, saving model to VGG16_Model.hdf5\n",
            "Epoch 114/200\n",
            "32/32 [==============================] - 12s 370ms/step - loss: 0.4658 - accuracy: 0.7647 - val_loss: 0.4070 - val_accuracy: 0.8434\n",
            "\n",
            "Epoch 00114: val_loss improved from 0.40921 to 0.40704, saving model to VGG16_Model.hdf5\n",
            "Epoch 115/200\n",
            "32/32 [==============================] - 12s 367ms/step - loss: 0.4725 - accuracy: 0.7672 - val_loss: 0.4085 - val_accuracy: 0.8353\n",
            "\n",
            "Epoch 00115: val_loss did not improve from 0.40704\n",
            "Epoch 116/200\n",
            "32/32 [==============================] - 12s 365ms/step - loss: 0.4531 - accuracy: 0.7696 - val_loss: 0.4104 - val_accuracy: 0.8353\n",
            "\n",
            "Epoch 00116: val_loss did not improve from 0.40704\n",
            "Epoch 117/200\n",
            "32/32 [==============================] - 12s 365ms/step - loss: 0.4940 - accuracy: 0.7582 - val_loss: 0.4125 - val_accuracy: 0.8313\n",
            "\n",
            "Epoch 00117: val_loss did not improve from 0.40704\n",
            "Epoch 118/200\n",
            "32/32 [==============================] - 12s 366ms/step - loss: 0.4852 - accuracy: 0.7603 - val_loss: 0.4163 - val_accuracy: 0.8233\n",
            "\n",
            "Epoch 00118: val_loss did not improve from 0.40704\n",
            "Epoch 119/200\n",
            "32/32 [==============================] - 12s 366ms/step - loss: 0.4505 - accuracy: 0.7861 - val_loss: 0.4150 - val_accuracy: 0.8273\n",
            "\n",
            "Epoch 00119: val_loss did not improve from 0.40704\n",
            "Epoch 120/200\n",
            "32/32 [==============================] - 12s 364ms/step - loss: 0.4492 - accuracy: 0.7894 - val_loss: 0.4141 - val_accuracy: 0.8273\n",
            "\n",
            "Epoch 00120: val_loss did not improve from 0.40704\n",
            "Epoch 121/200\n",
            "32/32 [==============================] - 12s 364ms/step - loss: 0.4708 - accuracy: 0.7703 - val_loss: 0.4133 - val_accuracy: 0.8313\n",
            "\n",
            "Epoch 00121: val_loss did not improve from 0.40704\n",
            "Epoch 122/200\n",
            "32/32 [==============================] - 12s 370ms/step - loss: 0.4661 - accuracy: 0.7701 - val_loss: 0.4116 - val_accuracy: 0.8313\n",
            "\n",
            "Epoch 00122: val_loss did not improve from 0.40704\n",
            "Epoch 123/200\n",
            "32/32 [==============================] - 12s 366ms/step - loss: 0.4704 - accuracy: 0.7760 - val_loss: 0.4108 - val_accuracy: 0.8353\n",
            "\n",
            "Epoch 00123: val_loss did not improve from 0.40704\n",
            "Epoch 124/200\n",
            "32/32 [==============================] - 12s 366ms/step - loss: 0.4811 - accuracy: 0.7610 - val_loss: 0.4127 - val_accuracy: 0.8353\n",
            "\n",
            "Epoch 00124: val_loss did not improve from 0.40704\n",
            "Epoch 125/200\n",
            "32/32 [==============================] - 12s 366ms/step - loss: 0.4635 - accuracy: 0.7876 - val_loss: 0.4124 - val_accuracy: 0.8313\n",
            "\n",
            "Epoch 00125: val_loss did not improve from 0.40704\n",
            "Epoch 126/200\n",
            "32/32 [==============================] - 12s 367ms/step - loss: 0.4721 - accuracy: 0.7677 - val_loss: 0.4116 - val_accuracy: 0.8153\n",
            "\n",
            "Epoch 00126: val_loss did not improve from 0.40704\n",
            "Epoch 127/200\n",
            "32/32 [==============================] - 12s 366ms/step - loss: 0.4778 - accuracy: 0.7703 - val_loss: 0.4110 - val_accuracy: 0.8193\n",
            "\n",
            "Epoch 00127: val_loss did not improve from 0.40704\n",
            "Epoch 128/200\n",
            "32/32 [==============================] - 12s 367ms/step - loss: 0.4464 - accuracy: 0.8003 - val_loss: 0.4127 - val_accuracy: 0.8112\n",
            "\n",
            "Epoch 00128: val_loss did not improve from 0.40704\n",
            "Epoch 129/200\n",
            "32/32 [==============================] - 12s 366ms/step - loss: 0.4460 - accuracy: 0.7871 - val_loss: 0.4098 - val_accuracy: 0.8153\n",
            "\n",
            "Epoch 00129: val_loss did not improve from 0.40704\n",
            "Epoch 130/200\n",
            "32/32 [==============================] - 12s 366ms/step - loss: 0.4533 - accuracy: 0.7815 - val_loss: 0.4124 - val_accuracy: 0.8112\n",
            "\n",
            "Epoch 00130: val_loss did not improve from 0.40704\n",
            "Epoch 131/200\n",
            "32/32 [==============================] - 12s 367ms/step - loss: 0.4613 - accuracy: 0.7760 - val_loss: 0.4128 - val_accuracy: 0.8112\n",
            "\n",
            "Epoch 00131: val_loss did not improve from 0.40704\n",
            "Epoch 132/200\n",
            "32/32 [==============================] - 12s 368ms/step - loss: 0.4962 - accuracy: 0.7401 - val_loss: 0.4101 - val_accuracy: 0.8153\n",
            "\n",
            "Epoch 00132: val_loss did not improve from 0.40704\n",
            "Epoch 133/200\n",
            "32/32 [==============================] - 12s 369ms/step - loss: 0.4391 - accuracy: 0.7837 - val_loss: 0.4085 - val_accuracy: 0.8233\n",
            "\n",
            "Epoch 00133: val_loss did not improve from 0.40704\n",
            "Epoch 134/200\n",
            "32/32 [==============================] - 12s 366ms/step - loss: 0.4783 - accuracy: 0.7591 - val_loss: 0.4077 - val_accuracy: 0.8233\n",
            "\n",
            "Epoch 00134: val_loss did not improve from 0.40704\n",
            "Epoch 135/200\n",
            "32/32 [==============================] - 12s 369ms/step - loss: 0.4567 - accuracy: 0.7856 - val_loss: 0.4085 - val_accuracy: 0.8193\n",
            "\n",
            "Epoch 00135: val_loss did not improve from 0.40704\n",
            "Epoch 136/200\n",
            "32/32 [==============================] - 12s 366ms/step - loss: 0.4678 - accuracy: 0.7749 - val_loss: 0.4089 - val_accuracy: 0.8233\n",
            "\n",
            "Epoch 00136: val_loss did not improve from 0.40704\n",
            "Epoch 137/200\n",
            "32/32 [==============================] - 12s 368ms/step - loss: 0.4679 - accuracy: 0.7707 - val_loss: 0.4077 - val_accuracy: 0.8353\n",
            "\n",
            "Epoch 00137: val_loss did not improve from 0.40704\n",
            "Epoch 138/200\n",
            "32/32 [==============================] - 12s 367ms/step - loss: 0.4841 - accuracy: 0.7549 - val_loss: 0.4075 - val_accuracy: 0.8313\n",
            "\n",
            "Epoch 00138: val_loss did not improve from 0.40704\n",
            "Epoch 139/200\n",
            "32/32 [==============================] - 12s 365ms/step - loss: 0.4696 - accuracy: 0.7654 - val_loss: 0.4088 - val_accuracy: 0.8273\n",
            "\n",
            "Epoch 00139: val_loss did not improve from 0.40704\n",
            "Epoch 140/200\n",
            "32/32 [==============================] - 12s 370ms/step - loss: 0.4894 - accuracy: 0.7651 - val_loss: 0.4095 - val_accuracy: 0.8233\n",
            "\n",
            "Epoch 00140: val_loss did not improve from 0.40704\n",
            "Epoch 141/200\n",
            "32/32 [==============================] - 12s 366ms/step - loss: 0.4611 - accuracy: 0.7820 - val_loss: 0.4100 - val_accuracy: 0.8153\n",
            "\n",
            "Epoch 00141: val_loss did not improve from 0.40704\n",
            "Epoch 142/200\n",
            "32/32 [==============================] - 12s 366ms/step - loss: 0.4521 - accuracy: 0.7712 - val_loss: 0.4055 - val_accuracy: 0.8273\n",
            "\n",
            "Epoch 00142: val_loss improved from 0.40704 to 0.40554, saving model to VGG16_Model.hdf5\n",
            "Epoch 143/200\n",
            "32/32 [==============================] - 12s 369ms/step - loss: 0.4432 - accuracy: 0.7991 - val_loss: 0.4039 - val_accuracy: 0.8353\n",
            "\n",
            "Epoch 00143: val_loss improved from 0.40554 to 0.40393, saving model to VGG16_Model.hdf5\n",
            "Epoch 144/200\n",
            "32/32 [==============================] - 12s 371ms/step - loss: 0.4834 - accuracy: 0.7642 - val_loss: 0.4040 - val_accuracy: 0.8273\n",
            "\n",
            "Epoch 00144: val_loss did not improve from 0.40393\n",
            "Epoch 145/200\n",
            "32/32 [==============================] - 12s 367ms/step - loss: 0.4708 - accuracy: 0.7715 - val_loss: 0.4045 - val_accuracy: 0.8233\n",
            "\n",
            "Epoch 00145: val_loss did not improve from 0.40393\n",
            "Epoch 146/200\n",
            "32/32 [==============================] - 12s 367ms/step - loss: 0.4670 - accuracy: 0.7746 - val_loss: 0.4004 - val_accuracy: 0.8313\n",
            "\n",
            "Epoch 00146: val_loss improved from 0.40393 to 0.40036, saving model to VGG16_Model.hdf5\n",
            "Epoch 147/200\n",
            "32/32 [==============================] - 12s 373ms/step - loss: 0.4687 - accuracy: 0.7711 - val_loss: 0.4023 - val_accuracy: 0.8273\n",
            "\n",
            "Epoch 00147: val_loss did not improve from 0.40036\n",
            "Epoch 148/200\n",
            "32/32 [==============================] - 12s 364ms/step - loss: 0.4648 - accuracy: 0.7689 - val_loss: 0.4022 - val_accuracy: 0.8193\n",
            "\n",
            "Epoch 00148: val_loss did not improve from 0.40036\n",
            "Epoch 149/200\n",
            "32/32 [==============================] - 12s 366ms/step - loss: 0.4562 - accuracy: 0.7812 - val_loss: 0.4031 - val_accuracy: 0.8273\n",
            "\n",
            "Epoch 00149: val_loss did not improve from 0.40036\n",
            "Epoch 150/200\n",
            "32/32 [==============================] - 12s 367ms/step - loss: 0.4641 - accuracy: 0.7729 - val_loss: 0.4006 - val_accuracy: 0.8313\n",
            "\n",
            "Epoch 00150: val_loss did not improve from 0.40036\n",
            "Epoch 151/200\n",
            "32/32 [==============================] - 12s 367ms/step - loss: 0.4808 - accuracy: 0.7651 - val_loss: 0.4019 - val_accuracy: 0.8313\n",
            "\n",
            "Epoch 00151: val_loss did not improve from 0.40036\n",
            "Epoch 152/200\n",
            "32/32 [==============================] - 12s 368ms/step - loss: 0.4685 - accuracy: 0.7679 - val_loss: 0.4019 - val_accuracy: 0.8313\n",
            "\n",
            "Epoch 00152: val_loss did not improve from 0.40036\n",
            "Epoch 153/200\n",
            "32/32 [==============================] - 12s 368ms/step - loss: 0.4708 - accuracy: 0.7715 - val_loss: 0.4041 - val_accuracy: 0.8273\n",
            "\n",
            "Epoch 00153: val_loss did not improve from 0.40036\n",
            "Epoch 154/200\n",
            "32/32 [==============================] - 12s 366ms/step - loss: 0.4708 - accuracy: 0.7692 - val_loss: 0.4041 - val_accuracy: 0.8353\n",
            "\n",
            "Epoch 00154: val_loss did not improve from 0.40036\n",
            "Epoch 155/200\n",
            "32/32 [==============================] - 12s 374ms/step - loss: 0.4417 - accuracy: 0.7921 - val_loss: 0.4009 - val_accuracy: 0.8353\n",
            "\n",
            "Epoch 00155: val_loss did not improve from 0.40036\n",
            "Epoch 156/200\n",
            "32/32 [==============================] - 12s 364ms/step - loss: 0.4527 - accuracy: 0.7875 - val_loss: 0.3993 - val_accuracy: 0.8313\n",
            "\n",
            "Epoch 00156: val_loss improved from 0.40036 to 0.39933, saving model to VGG16_Model.hdf5\n",
            "Epoch 157/200\n",
            "32/32 [==============================] - 12s 372ms/step - loss: 0.4477 - accuracy: 0.7909 - val_loss: 0.3993 - val_accuracy: 0.8273\n",
            "\n",
            "Epoch 00157: val_loss improved from 0.39933 to 0.39927, saving model to VGG16_Model.hdf5\n",
            "Epoch 158/200\n",
            "32/32 [==============================] - 12s 371ms/step - loss: 0.4488 - accuracy: 0.7843 - val_loss: 0.3987 - val_accuracy: 0.8273\n",
            "\n",
            "Epoch 00158: val_loss improved from 0.39927 to 0.39868, saving model to VGG16_Model.hdf5\n",
            "Epoch 159/200\n",
            "32/32 [==============================] - 12s 369ms/step - loss: 0.4260 - accuracy: 0.7987 - val_loss: 0.3976 - val_accuracy: 0.8273\n",
            "\n",
            "Epoch 00159: val_loss improved from 0.39868 to 0.39756, saving model to VGG16_Model.hdf5\n",
            "Epoch 160/200\n",
            "32/32 [==============================] - 12s 374ms/step - loss: 0.4344 - accuracy: 0.7887 - val_loss: 0.3973 - val_accuracy: 0.8313\n",
            "\n",
            "Epoch 00160: val_loss improved from 0.39756 to 0.39735, saving model to VGG16_Model.hdf5\n",
            "Epoch 161/200\n",
            "32/32 [==============================] - 12s 369ms/step - loss: 0.4571 - accuracy: 0.7677 - val_loss: 0.3984 - val_accuracy: 0.8353\n",
            "\n",
            "Epoch 00161: val_loss did not improve from 0.39735\n",
            "Epoch 162/200\n",
            "32/32 [==============================] - 12s 367ms/step - loss: 0.4516 - accuracy: 0.7891 - val_loss: 0.3996 - val_accuracy: 0.8313\n",
            "\n",
            "Epoch 00162: val_loss did not improve from 0.39735\n",
            "Epoch 163/200\n",
            "32/32 [==============================] - 12s 365ms/step - loss: 0.4302 - accuracy: 0.7912 - val_loss: 0.3985 - val_accuracy: 0.8394\n",
            "\n",
            "Epoch 00163: val_loss did not improve from 0.39735\n",
            "Epoch 164/200\n",
            "32/32 [==============================] - 12s 366ms/step - loss: 0.4730 - accuracy: 0.7630 - val_loss: 0.4012 - val_accuracy: 0.8273\n",
            "\n",
            "Epoch 00164: val_loss did not improve from 0.39735\n",
            "Epoch 165/200\n",
            "32/32 [==============================] - 12s 367ms/step - loss: 0.4422 - accuracy: 0.7830 - val_loss: 0.4012 - val_accuracy: 0.8233\n",
            "\n",
            "Epoch 00165: val_loss did not improve from 0.39735\n",
            "Epoch 166/200\n",
            "32/32 [==============================] - 12s 366ms/step - loss: 0.4433 - accuracy: 0.7917 - val_loss: 0.4020 - val_accuracy: 0.8193\n",
            "\n",
            "Epoch 00166: val_loss did not improve from 0.39735\n",
            "Epoch 167/200\n",
            "32/32 [==============================] - 12s 368ms/step - loss: 0.4447 - accuracy: 0.7748 - val_loss: 0.3997 - val_accuracy: 0.8233\n",
            "\n",
            "Epoch 00167: val_loss did not improve from 0.39735\n",
            "Epoch 168/200\n",
            "32/32 [==============================] - 12s 366ms/step - loss: 0.4584 - accuracy: 0.7870 - val_loss: 0.4007 - val_accuracy: 0.8233\n",
            "\n",
            "Epoch 00168: val_loss did not improve from 0.39735\n",
            "Epoch 169/200\n",
            "32/32 [==============================] - 12s 365ms/step - loss: 0.4609 - accuracy: 0.7792 - val_loss: 0.4020 - val_accuracy: 0.8233\n",
            "\n",
            "Epoch 00169: val_loss did not improve from 0.39735\n",
            "Epoch 170/200\n",
            "32/32 [==============================] - 12s 365ms/step - loss: 0.4749 - accuracy: 0.7710 - val_loss: 0.4015 - val_accuracy: 0.8273\n",
            "\n",
            "Epoch 00170: val_loss did not improve from 0.39735\n",
            "Epoch 171/200\n",
            "32/32 [==============================] - 12s 367ms/step - loss: 0.4744 - accuracy: 0.7751 - val_loss: 0.4028 - val_accuracy: 0.8273\n",
            "\n",
            "Epoch 00171: val_loss did not improve from 0.39735\n",
            "Epoch 172/200\n",
            "32/32 [==============================] - 12s 366ms/step - loss: 0.4340 - accuracy: 0.8024 - val_loss: 0.4060 - val_accuracy: 0.8313\n",
            "\n",
            "Epoch 00172: val_loss did not improve from 0.39735\n",
            "Epoch 173/200\n",
            "32/32 [==============================] - 12s 366ms/step - loss: 0.4321 - accuracy: 0.8066 - val_loss: 0.4053 - val_accuracy: 0.8273\n",
            "\n",
            "Epoch 00173: val_loss did not improve from 0.39735\n",
            "Epoch 174/200\n",
            "32/32 [==============================] - 12s 367ms/step - loss: 0.4456 - accuracy: 0.7894 - val_loss: 0.4065 - val_accuracy: 0.8233\n",
            "\n",
            "Epoch 00174: val_loss did not improve from 0.39735\n",
            "Epoch 175/200\n",
            "32/32 [==============================] - 12s 365ms/step - loss: 0.4462 - accuracy: 0.7792 - val_loss: 0.4043 - val_accuracy: 0.8273\n",
            "\n",
            "Epoch 00175: val_loss did not improve from 0.39735\n",
            "Epoch 176/200\n",
            "32/32 [==============================] - 12s 365ms/step - loss: 0.4385 - accuracy: 0.7854 - val_loss: 0.4018 - val_accuracy: 0.8313\n",
            "\n",
            "Epoch 00176: val_loss did not improve from 0.39735\n",
            "Epoch 177/200\n",
            "32/32 [==============================] - 12s 367ms/step - loss: 0.4291 - accuracy: 0.8116 - val_loss: 0.3997 - val_accuracy: 0.8193\n",
            "\n",
            "Epoch 00177: val_loss did not improve from 0.39735\n",
            "Epoch 178/200\n",
            "32/32 [==============================] - 12s 365ms/step - loss: 0.4582 - accuracy: 0.7778 - val_loss: 0.3977 - val_accuracy: 0.8273\n",
            "\n",
            "Epoch 00178: val_loss did not improve from 0.39735\n",
            "Epoch 179/200\n",
            "32/32 [==============================] - 12s 365ms/step - loss: 0.4555 - accuracy: 0.7659 - val_loss: 0.3997 - val_accuracy: 0.8233\n",
            "\n",
            "Epoch 00179: val_loss did not improve from 0.39735\n",
            "Epoch 180/200\n",
            "32/32 [==============================] - 12s 370ms/step - loss: 0.4502 - accuracy: 0.7740 - val_loss: 0.4017 - val_accuracy: 0.8273\n",
            "\n",
            "Epoch 00180: val_loss did not improve from 0.39735\n",
            "Epoch 181/200\n",
            "32/32 [==============================] - 12s 365ms/step - loss: 0.4484 - accuracy: 0.7785 - val_loss: 0.4004 - val_accuracy: 0.8273\n",
            "\n",
            "Epoch 00181: val_loss did not improve from 0.39735\n",
            "Epoch 182/200\n",
            "32/32 [==============================] - 12s 366ms/step - loss: 0.4581 - accuracy: 0.7746 - val_loss: 0.3961 - val_accuracy: 0.8273\n",
            "\n",
            "Epoch 00182: val_loss improved from 0.39735 to 0.39611, saving model to VGG16_Model.hdf5\n",
            "Epoch 183/200\n",
            "32/32 [==============================] - 12s 369ms/step - loss: 0.4472 - accuracy: 0.7845 - val_loss: 0.3927 - val_accuracy: 0.8273\n",
            "\n",
            "Epoch 00183: val_loss improved from 0.39611 to 0.39274, saving model to VGG16_Model.hdf5\n",
            "Epoch 184/200\n",
            "32/32 [==============================] - 12s 367ms/step - loss: 0.4238 - accuracy: 0.8110 - val_loss: 0.3913 - val_accuracy: 0.8233\n",
            "\n",
            "Epoch 00184: val_loss improved from 0.39274 to 0.39129, saving model to VGG16_Model.hdf5\n",
            "Epoch 185/200\n",
            "32/32 [==============================] - 12s 373ms/step - loss: 0.4493 - accuracy: 0.7876 - val_loss: 0.3927 - val_accuracy: 0.8233\n",
            "\n",
            "Epoch 00185: val_loss did not improve from 0.39129\n",
            "Epoch 186/200\n",
            "32/32 [==============================] - 12s 365ms/step - loss: 0.4281 - accuracy: 0.8025 - val_loss: 0.3932 - val_accuracy: 0.8193\n",
            "\n",
            "Epoch 00186: val_loss did not improve from 0.39129\n",
            "Epoch 187/200\n",
            "32/32 [==============================] - 12s 369ms/step - loss: 0.4819 - accuracy: 0.7524 - val_loss: 0.3940 - val_accuracy: 0.8233\n",
            "\n",
            "Epoch 00187: val_loss did not improve from 0.39129\n",
            "Epoch 188/200\n",
            "32/32 [==============================] - 12s 366ms/step - loss: 0.4474 - accuracy: 0.7829 - val_loss: 0.3897 - val_accuracy: 0.8273\n",
            "\n",
            "Epoch 00188: val_loss improved from 0.39129 to 0.38972, saving model to VGG16_Model.hdf5\n",
            "Epoch 189/200\n",
            "32/32 [==============================] - 12s 370ms/step - loss: 0.4606 - accuracy: 0.7702 - val_loss: 0.3897 - val_accuracy: 0.8233\n",
            "\n",
            "Epoch 00189: val_loss improved from 0.38972 to 0.38969, saving model to VGG16_Model.hdf5\n",
            "Epoch 190/200\n",
            "32/32 [==============================] - 12s 368ms/step - loss: 0.4676 - accuracy: 0.7664 - val_loss: 0.3900 - val_accuracy: 0.8233\n",
            "\n",
            "Epoch 00190: val_loss did not improve from 0.38969\n",
            "Epoch 191/200\n",
            "32/32 [==============================] - 12s 368ms/step - loss: 0.4429 - accuracy: 0.7931 - val_loss: 0.3926 - val_accuracy: 0.8193\n",
            "\n",
            "Epoch 00191: val_loss did not improve from 0.38969\n",
            "Epoch 192/200\n",
            "32/32 [==============================] - 12s 366ms/step - loss: 0.4554 - accuracy: 0.7845 - val_loss: 0.3934 - val_accuracy: 0.8193\n",
            "\n",
            "Epoch 00192: val_loss did not improve from 0.38969\n",
            "Epoch 193/200\n",
            "32/32 [==============================] - 12s 367ms/step - loss: 0.4551 - accuracy: 0.7788 - val_loss: 0.3913 - val_accuracy: 0.8193\n",
            "\n",
            "Epoch 00193: val_loss did not improve from 0.38969\n",
            "Epoch 194/200\n",
            "32/32 [==============================] - 12s 366ms/step - loss: 0.4283 - accuracy: 0.7966 - val_loss: 0.3906 - val_accuracy: 0.8233\n",
            "\n",
            "Epoch 00194: val_loss did not improve from 0.38969\n",
            "Epoch 195/200\n",
            "32/32 [==============================] - 12s 366ms/step - loss: 0.4777 - accuracy: 0.7607 - val_loss: 0.3915 - val_accuracy: 0.8233\n",
            "\n",
            "Epoch 00195: val_loss did not improve from 0.38969\n",
            "Epoch 196/200\n",
            "32/32 [==============================] - 12s 365ms/step - loss: 0.4681 - accuracy: 0.7669 - val_loss: 0.3898 - val_accuracy: 0.8193\n",
            "\n",
            "Epoch 00196: val_loss did not improve from 0.38969\n",
            "Epoch 197/200\n",
            "32/32 [==============================] - 12s 366ms/step - loss: 0.4670 - accuracy: 0.7848 - val_loss: 0.3862 - val_accuracy: 0.8233\n",
            "\n",
            "Epoch 00197: val_loss improved from 0.38969 to 0.38623, saving model to VGG16_Model.hdf5\n",
            "Epoch 198/200\n",
            "32/32 [==============================] - 12s 370ms/step - loss: 0.4544 - accuracy: 0.7779 - val_loss: 0.3863 - val_accuracy: 0.8313\n",
            "\n",
            "Epoch 00198: val_loss did not improve from 0.38623\n",
            "Epoch 199/200\n",
            "32/32 [==============================] - 12s 365ms/step - loss: 0.4346 - accuracy: 0.7932 - val_loss: 0.3850 - val_accuracy: 0.8353\n",
            "\n",
            "Epoch 00199: val_loss improved from 0.38623 to 0.38500, saving model to VGG16_Model.hdf5\n",
            "Epoch 200/200\n",
            "32/32 [==============================] - 12s 372ms/step - loss: 0.4443 - accuracy: 0.7915 - val_loss: 0.3863 - val_accuracy: 0.8313\n",
            "\n",
            "Epoch 00200: val_loss did not improve from 0.38500\n"
          ]
        }
      ],
      "source": [
        "training_datagen = ImageDataGenerator(rotation_range=40, \n",
        "                        width_shift_range=0.2, \n",
        "                        height_shift_range=0.2, \n",
        "                        zoom_range=0.2, \n",
        "                        horizontal_flip=True, \n",
        "                        vertical_flip=True,\n",
        "                        shear_range=0.2) \n",
        "\n",
        "train_generator = training_datagen.flow(\n",
        "\tX_train, Y_train,\n",
        "batch_size=64\n",
        ")\n",
        "training_datagen.fit(X_train)\n",
        "\n",
        "\n",
        "filepath=\"VGG16_Model.hdf5\"\n",
        "checkpoint = callbacks.ModelCheckpoint(filepath, monitor='val_loss',save_best_only=True, mode='min',verbose=1)\n",
        "callbacks_list = [checkpoint]\n",
        "\n",
        "history = model.fit_generator(train_generator, steps_per_epoch=32, epochs=200,\n",
        "                              validation_data=(X_val, Y_val),validation_steps=50,callbacks=callbacks_list)"
      ]
    },
    {
      "cell_type": "markdown",
      "metadata": {
        "id": "EJHImwyDx40f"
      },
      "source": [
        "**Plot the Results**"
      ]
    },
    {
      "cell_type": "code",
      "execution_count": null,
      "metadata": {
        "id": "8Wgt_QeG-NQx"
      },
      "outputs": [],
      "source": [
        "acc = history.history['accuracy']\n",
        "val_acc = history.history['val_accuracy']\n",
        "loss = history.history['loss']\n",
        "val_loss = history.history['val_loss']"
      ]
    },
    {
      "cell_type": "code",
      "execution_count": null,
      "metadata": {
        "colab": {
          "base_uri": "https://localhost:8080/",
          "height": 298
        },
        "id": "JDH2QVT-B4A7",
        "outputId": "462ef14f-0646-49f4-f470-795033258846"
      },
      "outputs": [
        {
          "data": {
            "image/png": "[encoded data removed]",
            "text/plain": [
              "<Figure size 432x288 with 1 Axes>"
            ]
          },
          "metadata": {
            "needs_background": "light",
            "tags": []
          },
          "output_type": "display_data"
        },
        {
          "data": {
            "text/plain": [
              "<Figure size 432x288 with 0 Axes>"
            ]
          },
          "metadata": {
            "tags": []
          },
          "output_type": "display_data"
        }
      ],
      "source": [
        "epochs = range(len(acc))\n",
        "plt.plot(epochs, acc, 'r', label='Training accuracy')\n",
        "plt.plot(epochs, val_acc, 'b', label='Validation accuracy')\n",
        "plt.title('TraiN & Val Acc VS Epochs')\n",
        "plt.legend(loc=0)\n",
        "plt.figure()\n",
        "plt.show()"
      ]
    },
    {
      "cell_type": "code",
      "execution_count": null,
      "metadata": {
        "colab": {
          "base_uri": "https://localhost:8080/",
          "height": 298
        },
        "id": "2yT_i3mtB4zC",
        "outputId": "9ddf3dab-4e65-406f-fa6b-b7a218049b16"
      },
      "outputs": [
        {
          "data": {
            "image/png": "[encoded data removed]",
            "text/plain": [
              "<Figure size 432x288 with 1 Axes>"
            ]
          },
          "metadata": {
            "needs_background": "light",
            "tags": []
          },
          "output_type": "display_data"
        },
        {
          "data": {
            "text/plain": [
              "<Figure size 432x288 with 0 Axes>"
            ]
          },
          "metadata": {
            "tags": []
          },
          "output_type": "display_data"
        }
      ],
      "source": [
        "epochs = range(len(acc))\n",
        "plt.plot(epochs, loss, 'r', label='Training Loss')\n",
        "plt.plot(epochs, val_loss, 'b', label='Validation Loss')\n",
        "plt.title('TraiN & Val Loss VS Epochs')\n",
        "plt.legend(loc=0)\n",
        "plt.figure()\n",
        "plt.show()"
      ]
    },
    {
      "cell_type": "code",
      "execution_count": null,
      "metadata": {
        "colab": {
          "base_uri": "https://localhost:8080/"
        },
        "id": "MLDbYtkfAZoT",
        "outputId": "dc975fba-b0a5-473f-def6-5864cdbcf856"
      },
      "outputs": [
        {
          "name": "stdout",
          "output_type": "stream",
          "text": [
            "8/8 [==============================] - 38s 437ms/step - loss: 0.3655 - accuracy: 0.8612\n",
            "Test Loss: 0.3781876862049103\n",
            "Test accuracy: 85.14056205749512\n"
          ]
        }
      ],
      "source": [
        "model.load_weights(\"VGG16_Model.hdf5\")\n",
        "score = model.evaluate(X_val, Y_val ,verbose=1)\n",
        "print('Test Loss:', score[0])\n",
        "print('Test accuracy:', score[1]*100)"
      ]
    },
    {
      "cell_type": "code",
      "execution_count": null,
      "metadata": {
        "colab": {
          "base_uri": "https://localhost:8080/",
          "height": 298
        },
        "id": "53FrHSBZIwBX",
        "outputId": "1ec9c293-ffa9-43f0-d4bc-9dc1882eebc0"
      },
      "outputs": [
        {
          "data": {
            "text/plain": [
              "Text(0.5, 1.0, 'Confusion Matrix')"
            ]
          },
          "execution_count": 31,
          "metadata": {
            "tags": []
          },
          "output_type": "execute_result"
        },
        {
          "data": {
            "image/png": "[encoded data removed]",
            "text/plain": [
              "<Figure size 432x288 with 2 Axes>"
            ]
          },
          "metadata": {
            "needs_background": "light",
            "tags": []
          },
          "output_type": "display_data"
        }
      ],
      "source": [
        "Y_pred = model.predict(X_val)\n",
        "Y_predx = np.argmax(Y_pred, axis = -1)\n",
        "Y_valx = np.argmax(Y_val, axis = -1)\n",
        "cf_matrix = confusion_matrix(Y_valx, Y_predx)\n",
        "group_names = ['True Neg','False Pos','False Neg','True Pos']\n",
        "group_counts = [\"{0:0.0f}\".format(value) for value in\n",
        "                cf_matrix.flatten()]\n",
        "group_percentages = [\"{0:.2%}\".format(value) for value in\n",
        "                     cf_matrix.flatten()/np.sum(cf_matrix)]\n",
        "labels = [f\"{v1}\\n{v2}\\n{v3}\" for v1, v2, v3 in\n",
        "          zip(group_names,group_counts,group_percentages)]\n",
        "labels = np.asarray(labels).reshape(2,2)\n",
        "sns.heatmap(cf_matrix, annot = labels, fmt = '')\n",
        "plt.title(\"Confusion Matrix\")"
      ]
    },
    {
      "cell_type": "code",
      "execution_count": null,
      "metadata": {
        "id": "Fvm8fa3gJMCx"
      },
      "outputs": [],
      "source": [
        "        "
      ]
    }
  ],
  "metadata": {
    "accelerator": "GPU",
    "colab": {
      "authorship_tag": "ABX9TyPtthdEBpKBb3PFe3OXUzaG",
      "collapsed_sections": [],
      "include_colab_link": true,
      "name": "COVID Chest X Ray (VGG16)",
      "provenance": []
    },
    "kernelspec": {
      "display_name": "Python 3.9.2 64-bit",
      "language": "python",
      "name": "python3"
    },
    "language_info": {
      "name": "python",
      "version": "3.9.2"
    },
    "vscode": {
      "interpreter": {
        "hash": "0c1c562b786c386f74d2e5e72ff607da117e3591530fbf71a31b6d249885b464"
      }
    }
  },
  "nbformat": 4,
  "nbformat_minor": 0
}
